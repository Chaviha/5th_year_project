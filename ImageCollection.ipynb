{
  "cells": [
    {
      "cell_type": "markdown",
      "metadata": {
        "id": "view-in-github",
        "colab_type": "text"
      },
      "source": [
        "<a href=\"https://colab.research.google.com/github/Chaviha/5th_year_project/blob/main/ImageCollection.ipynb\" target=\"_parent\"><img src=\"https://colab.research.google.com/assets/colab-badge.svg\" alt=\"Open In Colab\"/></a>"
      ]
    },
    {
      "cell_type": "markdown",
      "metadata": {
        "id": "lyWgFs_DNeQ5"
      },
      "source": [
        "# 1. Import Dependencies"
      ]
    },
    {
      "cell_type": "code",
      "execution_count": 1,
      "metadata": {
        "id": "zjllc6qWNeQ9"
      },
      "outputs": [],
      "source": [
        "#!pip uninstall opencv-python-headless"
      ]
    },
    {
      "cell_type": "code",
      "execution_count": 2,
      "metadata": {
        "id": "GZb0H2TNNeRA"
      },
      "outputs": [],
      "source": [
        "#!pip install opencv-python"
      ]
    },
    {
      "cell_type": "code",
      "execution_count": 3,
      "metadata": {
        "id": "lde43xSENeRA"
      },
      "outputs": [],
      "source": [
        "# Import opencv\n",
        "import cv2\n",
        "\n",
        "# Import uuid\n",
        "import uuid\n",
        "\n",
        "# Import Operating System\n",
        "import os\n",
        "\n",
        "# Import time\n",
        "import time"
      ]
    },
    {
      "cell_type": "markdown",
      "source": [
        "# testing microscope positioning"
      ],
      "metadata": {
        "id": "-8jGxXKfN_Qz"
      }
    },
    {
      "cell_type": "code",
      "source": [
        "cap = cv2.VideoCapture(0)\n",
        "while cap.isOpened():\n",
        "    ret, frame = cap.read()\n",
        "\n",
        "    cv2.imshow('microscope feed', frame)\n",
        "\n",
        "    if cv2.waitKey(1) & 0xFF == ord('q'):\n",
        "        break\n",
        "cap.release()\n",
        "cv2.destroyAllWindows()"
      ],
      "metadata": {
        "id": "_qheiwx7N-Mt"
      },
      "execution_count": 8,
      "outputs": []
    },
    {
      "cell_type": "markdown",
      "metadata": {
        "id": "j4iOCgYSNeRB"
      },
      "source": [
        "# 2. Define Images to Collect"
      ]
    },
    {
      "cell_type": "code",
      "execution_count": 5,
      "metadata": {
        "id": "ZHtv--t7NeRB"
      },
      "outputs": [],
      "source": [
        "labels = ['e.coli7', 'salmonella_typhi7', 'Vibrio_cholerae7']\n",
        "number_imgs = 10"
      ]
    },
    {
      "cell_type": "markdown",
      "metadata": {
        "id": "7H71N-2iNeRB"
      },
      "source": [
        "# 3. Setup Folders"
      ]
    },
    {
      "cell_type": "code",
      "execution_count": 6,
      "metadata": {
        "id": "7to4zIQVNeRC"
      },
      "outputs": [],
      "source": [
        "IMAGES_PATH = os.path.join('Tensorflow', 'workspace', 'images', 'collectedimages')"
      ]
    },
    {
      "cell_type": "code",
      "execution_count": 7,
      "metadata": {
        "id": "VmXDmvIeNeRC"
      },
      "outputs": [],
      "source": [
        "if not os.path.exists(IMAGES_PATH):\n",
        "    if os.name == 'posix':\n",
        "        !mkdir -p {IMAGES_PATH}\n",
        "    if os.name == 'nt':\n",
        "         !mkdir {IMAGES_PATH}\n",
        "for label in labels:\n",
        "    path = os.path.join(IMAGES_PATH, label)\n",
        "    if not os.path.exists(path):\n",
        "        !mkdir {path}"
      ]
    },
    {
      "cell_type": "markdown",
      "metadata": {
        "id": "uKmOdGIpNeRD"
      },
      "source": [
        "# 4. Capture Images"
      ]
    },
    {
      "cell_type": "code",
      "execution_count": null,
      "metadata": {
        "id": "W_DZYpfwNeRD",
        "outputId": "b0539650-cd03-4bb7-acc0-20a49945ba3e"
      },
      "outputs": [
        {
          "name": "stdout",
          "output_type": "stream",
          "text": [
            "Collecting images for e.coli2\n",
            "Collecting image 0\n",
            "Collecting image 1\n",
            "Collecting image 2\n",
            "Collecting image 3\n"
          ]
        },
        {
          "ename": "KeyboardInterrupt",
          "evalue": "",
          "output_type": "error",
          "traceback": [
            "\u001b[1;31m---------------------------------------------------------------------------\u001b[0m",
            "\u001b[1;31mKeyboardInterrupt\u001b[0m                         Traceback (most recent call last)",
            "Cell \u001b[1;32mIn[6], line 11\u001b[0m\n\u001b[0;32m      9\u001b[0m cv2\u001b[38;5;241m.\u001b[39mimwrite(imgname, frame)\n\u001b[0;32m     10\u001b[0m cv2\u001b[38;5;241m.\u001b[39mimshow(\u001b[38;5;124m'\u001b[39m\u001b[38;5;124mframe\u001b[39m\u001b[38;5;124m'\u001b[39m, frame)\n\u001b[1;32m---> 11\u001b[0m \u001b[43mtime\u001b[49m\u001b[38;5;241;43m.\u001b[39;49m\u001b[43msleep\u001b[49m\u001b[43m(\u001b[49m\u001b[38;5;241;43m2\u001b[39;49m\u001b[43m)\u001b[49m\n\u001b[0;32m     13\u001b[0m \u001b[38;5;28;01mif\u001b[39;00m cv2\u001b[38;5;241m.\u001b[39mwaitKey(\u001b[38;5;241m1\u001b[39m) \u001b[38;5;241m&\u001b[39m \u001b[38;5;241m0xFF\u001b[39m \u001b[38;5;241m==\u001b[39m \u001b[38;5;28mord\u001b[39m(\u001b[38;5;124m'\u001b[39m\u001b[38;5;124mq\u001b[39m\u001b[38;5;124m'\u001b[39m):\n\u001b[0;32m     14\u001b[0m     \u001b[38;5;28;01mbreak\u001b[39;00m\n",
            "\u001b[1;31mKeyboardInterrupt\u001b[0m: "
          ]
        }
      ],
      "source": [
        "for label in labels:\n",
        "    cap = cv2.VideoCapture(0)\n",
        "    print('Collecting images for {}'.format(label))\n",
        "    time.sleep(5)\n",
        "    for imgnum in range(number_imgs):\n",
        "        print('Collecting image {}'.format(imgnum))\n",
        "        ret, frame = cap.read()\n",
        "        imgname = os.path.join(IMAGES_PATH,label,label+'.'+'{}.jpg'.format(str(uuid.uuid1())))\n",
        "        cv2.imwrite(imgname, frame)\n",
        "        cv2.imshow('frame', frame)\n",
        "        time.sleep(2)\n",
        "\n",
        "        if cv2.waitKey(1) & 0xFF == ord('q'):\n",
        "            break\n",
        "cap.release()\n",
        "cv2.destroyAllWindows()"
      ]
    },
    {
      "cell_type": "markdown",
      "metadata": {
        "id": "lLn9a3iCNeRE"
      },
      "source": [
        "# 5. Image Labelling"
      ]
    },
    {
      "cell_type": "code",
      "execution_count": null,
      "metadata": {
        "id": "V_iicEJkNeRE"
      },
      "outputs": [],
      "source": [
        "#!pip install --upgrade pyqt5 lxml"
      ]
    },
    {
      "cell_type": "code",
      "execution_count": null,
      "metadata": {
        "id": "cjdPVY8rNeRE"
      },
      "outputs": [],
      "source": [
        "LABELIMG_PATH = os.path.join('Tensorflow', 'labelimg')"
      ]
    },
    {
      "cell_type": "code",
      "execution_count": null,
      "metadata": {
        "id": "ipJ5HstdNeRE"
      },
      "outputs": [],
      "source": [
        "if not os.path.exists(LABELIMG_PATH):\n",
        "    !mkdir {LABELIMG_PATH}\n",
        "    !git clone https://github.com/tzutalin/labelImg {LABELIMG_PATH}"
      ]
    },
    {
      "cell_type": "code",
      "execution_count": null,
      "metadata": {
        "id": "Qw8dXM4XNeRF"
      },
      "outputs": [],
      "source": [
        "if os.name == 'posix':\n",
        "    !make qt5py3\n",
        "if os.name =='nt':\n",
        "    !cd {LABELIMG_PATH} && pyrcc5 -o libs/resources.py resources.qrc"
      ]
    },
    {
      "cell_type": "code",
      "execution_count": null,
      "metadata": {
        "id": "mpXQmpcLNeRF",
        "outputId": "8f0e7937-72dd-4d41-bf41-1d2b47d3a549"
      },
      "outputs": [
        {
          "name": "stdout",
          "output_type": "stream",
          "text": [
            "Requirement already satisfied: Pillow in c:\\users\\user\\desktop\\jupyter\\jupyter\\tfodcourse\\tfod\\lib\\site-packages (11.0.0)\n"
          ]
        }
      ],
      "source": [
        "!pip install Pillow"
      ]
    },
    {
      "cell_type": "markdown",
      "metadata": {
        "id": "MZOznxKUNeRF"
      },
      "source": [
        "# displaying images"
      ]
    },
    {
      "cell_type": "code",
      "execution_count": null,
      "metadata": {
        "id": "U2U67FJvNeRG"
      },
      "outputs": [],
      "source": [
        "import os\n",
        "\n",
        "# Specify the folder path\n",
        "image_folder = 'e.coli1'\n",
        "\n",
        "# List all files in the folder\n",
        "image_files = os.listdir(image_folder)\n",
        "\n",
        "# Filter only image files (e.g., jpg, png, etc.)\n",
        "image_files = [f for f in image_files if f.endswith(('png', 'jpg', 'jpeg'))]\n",
        "\n",
        "# Display the list of image files\n",
        "print(image_files)\n"
      ]
    },
    {
      "cell_type": "markdown",
      "metadata": {
        "id": "KuXho-5cNeRG"
      },
      "source": [
        "# convert to jpg"
      ]
    },
    {
      "cell_type": "code",
      "execution_count": null,
      "metadata": {
        "id": "V7eA540gNeRG",
        "outputId": "33aa7b77-8183-4b2e-f60e-add5d3aed3d9"
      },
      "outputs": [
        {
          "name": "stdout",
          "output_type": "stream",
          "text": [
            "Converted images saved to Vibrio_cholerae3\n"
          ]
        }
      ],
      "source": [
        "import os\n",
        "from PIL import Image\n",
        "\n",
        "# Define the path to the folder containing images\n",
        "input_folder = 'Vibrio_cholerae'\n",
        "output_folder = 'Vibrio_cholerae3'\n",
        "\n",
        "# Create output folder if it doesn't exist\n",
        "os.makedirs(output_folder, exist_ok=True)\n",
        "\n",
        "# Loop through each file in the input folder\n",
        "for filename in os.listdir(input_folder):\n",
        "    if filename.lower().endswith(('.png', '.gif', '.jpeg', '.bmp', '.tiff','.jfif','.webp')):  # Add more formats if needed\n",
        "        # Load the image\n",
        "        img_path = os.path.join(input_folder, filename)\n",
        "        img = Image.open(img_path)\n",
        "\n",
        "        # Convert image to RGB (necessary for JPEG)\n",
        "        rgb_img = img.convert('RGB')\n",
        "\n",
        "        # Define output path with .jpg extension\n",
        "        output_path = os.path.join(output_folder, os.path.splitext(filename)[0] + '.jpg')\n",
        "\n",
        "        # Save the converted image as JPG\n",
        "        rgb_img.save(output_path, 'JPEG')\n",
        "\n",
        "print(f'Converted images saved to {output_folder}')\n"
      ]
    },
    {
      "cell_type": "code",
      "execution_count": null,
      "metadata": {
        "id": "km-we9rXNeRH"
      },
      "outputs": [],
      "source": [
        "#!pip install matplotlib"
      ]
    },
    {
      "cell_type": "markdown",
      "metadata": {
        "id": "tx3cu2D0NeRH"
      },
      "source": [
        "# increasing quality"
      ]
    },
    {
      "cell_type": "code",
      "execution_count": null,
      "metadata": {
        "id": "mfnRZQSTNeRH"
      },
      "outputs": [],
      "source": [
        "from PIL import Image, ImageOps\n",
        "import os\n",
        "\n",
        "# Function to increase aspect ratio by adding padding\n",
        "def add_padding_to_image(input_path, output_path, target_aspect_ratio, padding_color=(255, 255, 255)):\n",
        "    # Open the image\n",
        "    img = Image.open(input_path)\n",
        "    original_width, original_height = img.size\n",
        "    original_aspect_ratio = original_width / original_height\n",
        "\n",
        "    # Calculate new dimensions and padding\n",
        "    if original_aspect_ratio < target_aspect_ratio:\n",
        "        # Wider aspect ratio (add padding to the sides)\n",
        "        new_width = int(original_height * target_aspect_ratio)\n",
        "        new_height = original_height\n",
        "        padding = (new_width - original_width) // 2\n",
        "        new_img = ImageOps.expand(img, border=(padding, 0, padding, 0), fill=padding_color)\n",
        "    else:\n",
        "        # Taller aspect ratio (add padding to top and bottom)\n",
        "        new_width = original_width\n",
        "        new_height = int(original_width / target_aspect_ratio)\n",
        "        padding = (new_height - original_height) // 2\n",
        "        new_img = ImageOps.expand(img, border=(0, padding, 0, padding), fill=padding_color)\n",
        "\n",
        "    # Save the padded image\n",
        "    new_img.save(output_path)\n",
        "\n",
        "# Batch process all images in a folder\n",
        "def batch_increase_aspect_ratio(input_folder, output_folder, target_aspect_ratio, padding_color=(255, 255, 255)):\n",
        "    if not os.path.exists(output_folder):\n",
        "        os.makedirs(output_folder)\n",
        "\n",
        "    for filename in os.listdir(input_folder):\n",
        "        if filename.endswith(('.jpg', '.jpeg', '.png', '.bmp', '.tiff')):  # Ensure it's an image file\n",
        "            input_path = os.path.join(input_folder, filename)\n",
        "            output_path = os.path.join(output_folder, filename)\n",
        "            add_padding_to_image(input_path, output_path, target_aspect_ratio, padding_color)\n",
        "            #print(f\"Processed {filename}\")\n",
        "\n",
        "# Example usage\n",
        "input_folder = 'Vibrio_cholerae5'\n",
        "output_folder = 'Vibrio_cholerae6'\n",
        "target_aspect_ratio = 16 / 9  # Set your target aspect ratio here (e.g., 16:9 or 4:3)\n",
        "padding_color = (255, 255, 255)  # White padding\n",
        "\n",
        "batch_increase_aspect_ratio(input_folder, output_folder, target_aspect_ratio, padding_color)\n"
      ]
    },
    {
      "cell_type": "markdown",
      "metadata": {
        "id": "VLxLPrOeNeRI"
      },
      "source": [
        "# resizing images"
      ]
    },
    {
      "cell_type": "code",
      "execution_count": null,
      "metadata": {
        "id": "Z8R8Mo7XNeRI",
        "outputId": "8ae9ceff-1282-40dd-fd91-74c625c930ca"
      },
      "outputs": [
        {
          "data": {
            "text/plain": [
              "\"num_images = len(resized_images)\\nplt.figure(figsize=(12, 6))\\n\\nfor i, img in enumerate(resized_images):\\n    plt.subplot(1, num_images, i + 1)\\n    plt.imshow(img)\\n    plt.axis('off')  # Hide axes\\n    plt.title('Resized Image')\\n\\nplt.tight_layout()\\nplt.show()\""
            ]
          },
          "execution_count": 39,
          "metadata": {},
          "output_type": "execute_result"
        }
      ],
      "source": [
        "\n",
        "import os\n",
        "from PIL import Image\n",
        "import matplotlib.pyplot as plt\n",
        "\n",
        "# Define the path to the folder containing images\n",
        "input_folder = 'Vibrio_cholerae4'\n",
        "output_folder = 'Vibrio_cholerae5'\n",
        "\n",
        "# Create output folder if it doesn't exist\n",
        "os.makedirs(output_folder, exist_ok=True)\n",
        "\n",
        "# Define target size for resizing\n",
        "target_size = (3000, 3000)\n",
        "\n",
        "# Initialize a list to hold resized images\n",
        "resized_images = []\n",
        "\n",
        "# Loop through each file in the input folder\n",
        "for filename in os.listdir(input_folder):\n",
        "    if filename.endswith(('jpg', 'jpeg', 'png', 'gif')):  # Add more formats if needed\n",
        "        # Load the image\n",
        "        img_path = os.path.join(input_folder, filename)\n",
        "        img = Image.open(img_path)\n",
        "\n",
        "        # Resize the image\n",
        "        resized_img = img.resize(target_size)\n",
        "\n",
        "        # Save resized image to the output folder\n",
        "        resized_img.save(os.path.join(output_folder, filename))\n",
        "\n",
        "        # Append resized image to the list for display\n",
        "        resized_images.append(resized_img)\n",
        "\n",
        "# Plot original and resized images for comparison\n",
        "'''num_images = len(resized_images)\n",
        "plt.figure(figsize=(12, 6))\n",
        "\n",
        "for i, img in enumerate(resized_images):\n",
        "    plt.subplot(1, num_images, i + 1)\n",
        "    plt.imshow(img)\n",
        "    plt.axis('off')  # Hide axes\n",
        "    plt.title('Resized Image')\n",
        "\n",
        "plt.tight_layout()\n",
        "plt.show()'''"
      ]
    },
    {
      "cell_type": "code",
      "execution_count": null,
      "metadata": {
        "id": "oS46vX4uNeRI"
      },
      "outputs": [],
      "source": [
        "LABELIMG_PATH = os.path.join('Tensorflow', 'labelimg')"
      ]
    },
    {
      "cell_type": "code",
      "execution_count": null,
      "metadata": {
        "id": "lI9PFqovNeRJ",
        "outputId": "1c1f23d3-c4df-49ab-f64d-3d42cf0bb600"
      },
      "outputs": [
        {
          "name": "stdout",
          "output_type": "stream",
          "text": [
            "Image:C:\\Users\\User\\Desktop\\jupyter\\jupyter\\TFODCourse\\Tensorflow\\workspace\\images\\collectedimages\\salmonella_typhi5\\no.1 (6).jpg -> Annotation:C:/Users/User/Desktop/jupyter/jupyter/TFODCourse/Tensorflow/workspace/images/collectedimages/salmonella_typhi5\\no.1 (6).xml\n",
            "Image:C:\\Users\\User\\Desktop\\jupyter\\jupyter\\TFODCourse\\Tensorflow\\workspace\\images\\collectedimages\\salmonella_typhi5\\no.1 (12).jpg -> Annotation:C:/Users/User/Desktop/jupyter/jupyter/TFODCourse/Tensorflow/workspace/images/collectedimages/salmonella_typhi5\\no.1 (12).xml\n",
            "Image:C:\\Users\\User\\Desktop\\jupyter\\jupyter\\TFODCourse\\Tensorflow\\workspace\\images\\collectedimages\\salmonella_typhi5\\no.1 (13).jpg -> Annotation:C:/Users/User/Desktop/jupyter/jupyter/TFODCourse/Tensorflow/workspace/images/collectedimages/salmonella_typhi5\\no.1 (13).xml\n",
            "Image:C:\\Users\\User\\Desktop\\jupyter\\jupyter\\TFODCourse\\Tensorflow\\workspace\\images\\collectedimages\\salmonella_typhi5\\no.1 (17).jpg -> Annotation:C:/Users/User/Desktop/jupyter/jupyter/TFODCourse/Tensorflow/workspace/images/collectedimages/salmonella_typhi5\\no.1 (17).xml\n",
            "Image:C:\\Users\\User\\Desktop\\jupyter\\jupyter\\TFODCourse\\Tensorflow\\workspace\\images\\collectedimages\\salmonella_typhi5\\no.1 (19).jpg -> Annotation:C:/Users/User/Desktop/jupyter/jupyter/TFODCourse/Tensorflow/workspace/images/collectedimages/salmonella_typhi5\\no.1 (19).xml\n",
            "Image:C:\\Users\\User\\Desktop\\jupyter\\jupyter\\TFODCourse\\Tensorflow\\workspace\\images\\collectedimages\\salmonella_typhi5\\no.1 (27).jpg -> Annotation:C:/Users/User/Desktop/jupyter/jupyter/TFODCourse/Tensorflow/workspace/images/collectedimages/salmonella_typhi5\\no.1 (27).xml\n",
            "Image:C:\\Users\\User\\Desktop\\jupyter\\jupyter\\TFODCourse\\Tensorflow\\workspace\\images\\collectedimages\\salmonella_typhi5\\no.2 (5).jpg -> Annotation:C:/Users/User/Desktop/jupyter/jupyter/TFODCourse/Tensorflow/workspace/images/collectedimages/salmonella_typhi5\\no.2 (5).xml\n",
            "Image:C:\\Users\\User\\Desktop\\jupyter\\jupyter\\TFODCourse\\Tensorflow\\workspace\\images\\collectedimages\\salmonella_typhi5\\no.2 (58).jpg -> Annotation:C:/Users/User/Desktop/jupyter/jupyter/TFODCourse/Tensorflow/workspace/images/collectedimages/salmonella_typhi5\\no.2 (58).xml\n"
          ]
        }
      ],
      "source": [
        "!cd {LABELIMG_PATH} && python labelImg.py"
      ]
    },
    {
      "cell_type": "markdown",
      "metadata": {
        "id": "ayNBA5KgNeRJ"
      },
      "source": [
        "# 6. Move them into a Training and Testing Partition"
      ]
    },
    {
      "cell_type": "markdown",
      "metadata": {
        "id": "mZ7tMPHaNeRJ"
      },
      "source": [
        "# OPTIONAL - 7. Compress them for Colab Training"
      ]
    },
    {
      "cell_type": "code",
      "execution_count": null,
      "metadata": {
        "id": "RKGB1NkONeRJ"
      },
      "outputs": [],
      "source": [
        "TRAIN_PATH = os.path.join('Tensorflow', 'workspace', 'images', 'train')\n",
        "TEST_PATH = os.path.join('Tensorflow', 'workspace', 'images', 'test')\n",
        "ARCHIVE_PATH = os.path.join('Tensorflow', 'workspace', 'images', 'archive.tar.gz')"
      ]
    },
    {
      "cell_type": "code",
      "execution_count": null,
      "metadata": {
        "id": "oQGKrEzBNeRK"
      },
      "outputs": [],
      "source": [
        "!tar -czf {ARCHIVE_PATH} {TRAIN_PATH} {TEST_PATH}"
      ]
    },
    {
      "cell_type": "code",
      "execution_count": null,
      "metadata": {
        "id": "jnPIVvRUNeRK"
      },
      "outputs": [],
      "source": []
    }
  ],
  "metadata": {
    "kernelspec": {
      "display_name": "tfod",
      "language": "python",
      "name": "tfod"
    },
    "language_info": {
      "codemirror_mode": {
        "name": "ipython",
        "version": 3
      },
      "file_extension": ".py",
      "mimetype": "text/x-python",
      "name": "python",
      "nbconvert_exporter": "python",
      "pygments_lexer": "ipython3",
      "version": "3.9.0"
    },
    "colab": {
      "provenance": [],
      "include_colab_link": true
    }
  },
  "nbformat": 4,
  "nbformat_minor": 0
}